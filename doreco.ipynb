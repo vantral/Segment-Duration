{
 "cells": [
  {
   "cell_type": "code",
   "execution_count": 2,
   "id": "4cce0e5b",
   "metadata": {},
   "outputs": [],
   "source": [
    "import requests\n",
    "import pandas as pd\n",
    "from bs4 import BeautifulSoup\n",
    "from tqdm.notebook import tqdm"
   ]
  },
  {
   "cell_type": "code",
   "execution_count": 3,
   "id": "8239cd3c",
   "metadata": {},
   "outputs": [],
   "source": [
    "meta = pd.read_csv('https://sharedocs.huma-num.fr/wl/?id=3LuEgKRrEUrdkAeDVskK46eNFqes5s6F&fmode=download')"
   ]
  },
  {
   "cell_type": "code",
   "execution_count": 6,
   "id": "d2f71c78",
   "metadata": {
    "scrolled": false
   },
   "outputs": [
    {
     "data": {
      "application/vnd.jupyter.widget-view+json": {
       "model_id": "e2a1795814cf43dfa4c67af181f6e480",
       "version_major": 2,
       "version_minor": 0
      },
      "text/plain": [
       "  0%|          | 0/51 [00:00<?, ?it/s]"
      ]
     },
     "metadata": {},
     "output_type": "display_data"
    }
   ],
   "source": [
    "languages = {}\n",
    "\n",
    "for code in tqdm(meta['Glottocode']):\n",
    "    html = requests.get(f'https://doreco.huma-num.fr/languages/{code}').text\n",
    "    soup = BeautifulSoup(html)\n",
    "    link = soup.find('a', {'target': 'dataset'})['href']\n",
    "    content = requests.get(link).content\n",
    "    with open(f'data/{code}.zip', 'wb') as f:\n",
    "        f.write(content)"
   ]
  },
  {
   "cell_type": "code",
   "execution_count": 13,
   "id": "d9e53771",
   "metadata": {},
   "outputs": [],
   "source": [
    "from zipfile import ZipFile\n",
    "from pathlib import Path\n",
    "\n",
    "for file in tqdm(Path('data').iterdir()):\n",
    "    with ZipFile(file) as zip_ref:\n",
    "        zip_ref.extractall('data/')\n",
    "    file.unlink()"
   ]
  },
  {
   "cell_type": "code",
   "execution_count": 14,
   "id": "a0f97a5e",
   "metadata": {},
   "outputs": [],
   "source": [
    "from textgrid import TextGrid"
   ]
  },
  {
   "cell_type": "code",
   "execution_count": null,
   "id": "e13ebc70",
   "metadata": {},
   "outputs": [],
   "source": [
    "for folder in Path('data').iterdir():\n",
    "    for file in folder.iterdir():\n",
    "        "
   ]
  },
  {
   "cell_type": "code",
   "execution_count": 17,
   "id": "c8575892",
   "metadata": {},
   "outputs": [
    {
     "data": {
      "text/plain": [
       "'<p:>'"
      ]
     },
     "execution_count": 17,
     "metadata": {},
     "output_type": "execute_result"
    }
   ],
   "source": []
  }
 ],
 "metadata": {
  "kernelspec": {
   "display_name": "Python 3 (ipykernel)",
   "language": "python",
   "name": "python3"
  },
  "language_info": {
   "codemirror_mode": {
    "name": "ipython",
    "version": 3
   },
   "file_extension": ".py",
   "mimetype": "text/x-python",
   "name": "python",
   "nbconvert_exporter": "python",
   "pygments_lexer": "ipython3",
   "version": "3.9.13"
  }
 },
 "nbformat": 4,
 "nbformat_minor": 5
}
